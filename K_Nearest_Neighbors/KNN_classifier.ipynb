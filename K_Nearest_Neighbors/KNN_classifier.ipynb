{
  "nbformat": 4,
  "nbformat_minor": 0,
  "metadata": {
    "colab": {
      "provenance": []
    },
    "kernelspec": {
      "name": "python3",
      "display_name": "Python 3"
    },
    "language_info": {
      "name": "python"
    }
  },
  "cells": [
    {
      "cell_type": "markdown",
      "source": [
        "## **`Necessary imports`**"
      ],
      "metadata": {
        "id": "2I8PtnXc-VLw"
      }
    },
    {
      "cell_type": "code",
      "execution_count": 87,
      "metadata": {
        "id": "PKFGa5ToyVqZ"
      },
      "outputs": [],
      "source": [
        "import pandas as pd\n",
        "import numpy as np\n",
        "import matplotlib.pyplot as plt\n",
        "%matplotlib inline\n",
        "import matplotlib.patches as mpatches"
      ]
    },
    {
      "cell_type": "markdown",
      "source": [
        "## **`Mounting drive`**"
      ],
      "metadata": {
        "id": "lp9ir-rS-Y0n"
      }
    },
    {
      "cell_type": "code",
      "source": [
        "from google.colab import drive\n",
        "drive.mount('/gdrive')"
      ],
      "metadata": {
        "colab": {
          "base_uri": "https://localhost:8080/"
        },
        "id": "bzyJ3LxwylZ4",
        "outputId": "5fb3e0ab-164e-40ed-ee56-cbb1096d9bb3"
      },
      "execution_count": 88,
      "outputs": [
        {
          "output_type": "stream",
          "name": "stdout",
          "text": [
            "Drive already mounted at /gdrive; to attempt to forcibly remount, call drive.mount(\"/gdrive\", force_remount=True).\n"
          ]
        }
      ]
    },
    {
      "cell_type": "markdown",
      "source": [
        "# **`Task - 1`**"
      ],
      "metadata": {
        "id": "RgwcOhTHTnt9"
      }
    },
    {
      "cell_type": "markdown",
      "source": [
        "## **`Reading train.txt file`**"
      ],
      "metadata": {
        "id": "stgVXUq2-bqW"
      }
    },
    {
      "cell_type": "code",
      "source": [
        "columns = [\"X1\", \"X2\", \"Y\"]\n",
        "train = pd.read_csv(\"/gdrive/MyDrive/Pattern_Recognition/KNN/train_knn.txt\", header=None)\n",
        "train.columns = columns\n",
        "train"
      ],
      "metadata": {
        "colab": {
          "base_uri": "https://localhost:8080/",
          "height": 488
        },
        "id": "uesaDeobylc3",
        "outputId": "787fb817-ced2-4259-edf5-361b8ee9404a"
      },
      "execution_count": 89,
      "outputs": [
        {
          "output_type": "execute_result",
          "data": {
            "text/plain": [
              "    X1  X2  Y\n",
              "0    7   7  1\n",
              "1    7   4  1\n",
              "2    6   4  1\n",
              "3    7   5  1\n",
              "4    7   6  1\n",
              "5    6   7  1\n",
              "6    6   6  1\n",
              "7    3   4  2\n",
              "8    2   3  2\n",
              "9    3   2  2\n",
              "10   4   3  2\n",
              "11   3   3  2\n",
              "12   4   4  2\n",
              "13   1   4  2"
            ],
            "text/html": [
              "\n",
              "  <div id=\"df-6c774d87-d0fd-4f2b-9635-2473892d06a7\">\n",
              "    <div class=\"colab-df-container\">\n",
              "      <div>\n",
              "<style scoped>\n",
              "    .dataframe tbody tr th:only-of-type {\n",
              "        vertical-align: middle;\n",
              "    }\n",
              "\n",
              "    .dataframe tbody tr th {\n",
              "        vertical-align: top;\n",
              "    }\n",
              "\n",
              "    .dataframe thead th {\n",
              "        text-align: right;\n",
              "    }\n",
              "</style>\n",
              "<table border=\"1\" class=\"dataframe\">\n",
              "  <thead>\n",
              "    <tr style=\"text-align: right;\">\n",
              "      <th></th>\n",
              "      <th>X1</th>\n",
              "      <th>X2</th>\n",
              "      <th>Y</th>\n",
              "    </tr>\n",
              "  </thead>\n",
              "  <tbody>\n",
              "    <tr>\n",
              "      <th>0</th>\n",
              "      <td>7</td>\n",
              "      <td>7</td>\n",
              "      <td>1</td>\n",
              "    </tr>\n",
              "    <tr>\n",
              "      <th>1</th>\n",
              "      <td>7</td>\n",
              "      <td>4</td>\n",
              "      <td>1</td>\n",
              "    </tr>\n",
              "    <tr>\n",
              "      <th>2</th>\n",
              "      <td>6</td>\n",
              "      <td>4</td>\n",
              "      <td>1</td>\n",
              "    </tr>\n",
              "    <tr>\n",
              "      <th>3</th>\n",
              "      <td>7</td>\n",
              "      <td>5</td>\n",
              "      <td>1</td>\n",
              "    </tr>\n",
              "    <tr>\n",
              "      <th>4</th>\n",
              "      <td>7</td>\n",
              "      <td>6</td>\n",
              "      <td>1</td>\n",
              "    </tr>\n",
              "    <tr>\n",
              "      <th>5</th>\n",
              "      <td>6</td>\n",
              "      <td>7</td>\n",
              "      <td>1</td>\n",
              "    </tr>\n",
              "    <tr>\n",
              "      <th>6</th>\n",
              "      <td>6</td>\n",
              "      <td>6</td>\n",
              "      <td>1</td>\n",
              "    </tr>\n",
              "    <tr>\n",
              "      <th>7</th>\n",
              "      <td>3</td>\n",
              "      <td>4</td>\n",
              "      <td>2</td>\n",
              "    </tr>\n",
              "    <tr>\n",
              "      <th>8</th>\n",
              "      <td>2</td>\n",
              "      <td>3</td>\n",
              "      <td>2</td>\n",
              "    </tr>\n",
              "    <tr>\n",
              "      <th>9</th>\n",
              "      <td>3</td>\n",
              "      <td>2</td>\n",
              "      <td>2</td>\n",
              "    </tr>\n",
              "    <tr>\n",
              "      <th>10</th>\n",
              "      <td>4</td>\n",
              "      <td>3</td>\n",
              "      <td>2</td>\n",
              "    </tr>\n",
              "    <tr>\n",
              "      <th>11</th>\n",
              "      <td>3</td>\n",
              "      <td>3</td>\n",
              "      <td>2</td>\n",
              "    </tr>\n",
              "    <tr>\n",
              "      <th>12</th>\n",
              "      <td>4</td>\n",
              "      <td>4</td>\n",
              "      <td>2</td>\n",
              "    </tr>\n",
              "    <tr>\n",
              "      <th>13</th>\n",
              "      <td>1</td>\n",
              "      <td>4</td>\n",
              "      <td>2</td>\n",
              "    </tr>\n",
              "  </tbody>\n",
              "</table>\n",
              "</div>\n",
              "      <button class=\"colab-df-convert\" onclick=\"convertToInteractive('df-6c774d87-d0fd-4f2b-9635-2473892d06a7')\"\n",
              "              title=\"Convert this dataframe to an interactive table.\"\n",
              "              style=\"display:none;\">\n",
              "        \n",
              "  <svg xmlns=\"http://www.w3.org/2000/svg\" height=\"24px\"viewBox=\"0 0 24 24\"\n",
              "       width=\"24px\">\n",
              "    <path d=\"M0 0h24v24H0V0z\" fill=\"none\"/>\n",
              "    <path d=\"M18.56 5.44l.94 2.06.94-2.06 2.06-.94-2.06-.94-.94-2.06-.94 2.06-2.06.94zm-11 1L8.5 8.5l.94-2.06 2.06-.94-2.06-.94L8.5 2.5l-.94 2.06-2.06.94zm10 10l.94 2.06.94-2.06 2.06-.94-2.06-.94-.94-2.06-.94 2.06-2.06.94z\"/><path d=\"M17.41 7.96l-1.37-1.37c-.4-.4-.92-.59-1.43-.59-.52 0-1.04.2-1.43.59L10.3 9.45l-7.72 7.72c-.78.78-.78 2.05 0 2.83L4 21.41c.39.39.9.59 1.41.59.51 0 1.02-.2 1.41-.59l7.78-7.78 2.81-2.81c.8-.78.8-2.07 0-2.86zM5.41 20L4 18.59l7.72-7.72 1.47 1.35L5.41 20z\"/>\n",
              "  </svg>\n",
              "      </button>\n",
              "      \n",
              "  <style>\n",
              "    .colab-df-container {\n",
              "      display:flex;\n",
              "      flex-wrap:wrap;\n",
              "      gap: 12px;\n",
              "    }\n",
              "\n",
              "    .colab-df-convert {\n",
              "      background-color: #E8F0FE;\n",
              "      border: none;\n",
              "      border-radius: 50%;\n",
              "      cursor: pointer;\n",
              "      display: none;\n",
              "      fill: #1967D2;\n",
              "      height: 32px;\n",
              "      padding: 0 0 0 0;\n",
              "      width: 32px;\n",
              "    }\n",
              "\n",
              "    .colab-df-convert:hover {\n",
              "      background-color: #E2EBFA;\n",
              "      box-shadow: 0px 1px 2px rgba(60, 64, 67, 0.3), 0px 1px 3px 1px rgba(60, 64, 67, 0.15);\n",
              "      fill: #174EA6;\n",
              "    }\n",
              "\n",
              "    [theme=dark] .colab-df-convert {\n",
              "      background-color: #3B4455;\n",
              "      fill: #D2E3FC;\n",
              "    }\n",
              "\n",
              "    [theme=dark] .colab-df-convert:hover {\n",
              "      background-color: #434B5C;\n",
              "      box-shadow: 0px 1px 3px 1px rgba(0, 0, 0, 0.15);\n",
              "      filter: drop-shadow(0px 1px 2px rgba(0, 0, 0, 0.3));\n",
              "      fill: #FFFFFF;\n",
              "    }\n",
              "  </style>\n",
              "\n",
              "      <script>\n",
              "        const buttonEl =\n",
              "          document.querySelector('#df-6c774d87-d0fd-4f2b-9635-2473892d06a7 button.colab-df-convert');\n",
              "        buttonEl.style.display =\n",
              "          google.colab.kernel.accessAllowed ? 'block' : 'none';\n",
              "\n",
              "        async function convertToInteractive(key) {\n",
              "          const element = document.querySelector('#df-6c774d87-d0fd-4f2b-9635-2473892d06a7');\n",
              "          const dataTable =\n",
              "            await google.colab.kernel.invokeFunction('convertToInteractive',\n",
              "                                                     [key], {});\n",
              "          if (!dataTable) return;\n",
              "\n",
              "          const docLinkHtml = 'Like what you see? Visit the ' +\n",
              "            '<a target=\"_blank\" href=https://colab.research.google.com/notebooks/data_table.ipynb>data table notebook</a>'\n",
              "            + ' to learn more about interactive tables.';\n",
              "          element.innerHTML = '';\n",
              "          dataTable['output_type'] = 'display_data';\n",
              "          await google.colab.output.renderOutput(dataTable, element);\n",
              "          const docLink = document.createElement('div');\n",
              "          docLink.innerHTML = docLinkHtml;\n",
              "          element.appendChild(docLink);\n",
              "        }\n",
              "      </script>\n",
              "    </div>\n",
              "  </div>\n",
              "  "
            ]
          },
          "metadata": {},
          "execution_count": 89
        }
      ]
    },
    {
      "cell_type": "markdown",
      "source": [
        "## **`Plotting data samples`**"
      ],
      "metadata": {
        "id": "YqX6ZZy--f83"
      }
    },
    {
      "cell_type": "code",
      "source": [
        "def plot_data(train, suffix, all_data = False):  \n",
        "  \n",
        "  plt.figure(figsize=(10,10))\n",
        "\n",
        "  X = list(train[\"X1\"])\n",
        "  Y = list(train[\"X2\"])\n",
        "  class_ = list(train[\"Y\"])\n",
        "\n",
        "  for i in range(len(X)):\n",
        "    if class_[i] == 1:\n",
        "      plt.plot(X[i], Y[i], \"bo\")\n",
        "    elif class_[i] == 2:\n",
        "      plt.plot(X[i], Y[i], \"r*\")\n",
        "    else:\n",
        "      plt.plot(X[i], Y[i], \"gv\")\n",
        "\n",
        "  plt.xlabel(\"X1\")\n",
        "  plt.ylabel(\"X2\")\n",
        "  plt.title(\"The \"+suffix+\" data samples distribution\")\n",
        "\n",
        "  Good = mpatches.Patch(color=\"red\", label = \"Good\")\n",
        "  Bad = mpatches.Patch(color=\"blue\", label = \"Bad\")\n",
        "  if all_data:\n",
        "    Unclassified = mpatches.Patch(color=\"green\", label = \"Unclassified\")\n",
        "    plt.legend(handles = [Good, Bad, Unclassified])\n",
        "  else:\n",
        "    plt.legend(handles = [Good, Bad])\n",
        "  plt.show()"
      ],
      "metadata": {
        "id": "htUtu-7ZRAqa"
      },
      "execution_count": 90,
      "outputs": []
    },
    {
      "cell_type": "code",
      "source": [
        "plot_data(train, \"train\")"
      ],
      "metadata": {
        "colab": {
          "base_uri": "https://localhost:8080/",
          "height": 621
        },
        "id": "8JDdqR9LTVN4",
        "outputId": "2b7c25c5-f96b-433a-f321-364f38f51b69"
      },
      "execution_count": 91,
      "outputs": [
        {
          "output_type": "display_data",
          "data": {
            "text/plain": [
              "<Figure size 720x720 with 1 Axes>"
            ],
            "image/png": "[encoded data removed]"
          },
          "metadata": {
            "needs_background": "light"
          }
        }
      ]
    },
    {
      "cell_type": "markdown",
      "source": [
        "## **`Number of nearest neighbors`**"
      ],
      "metadata": {
        "id": "samZuptg-lXn"
      }
    },
    {
      "cell_type": "code",
      "source": [
        "neighbors = int(input(\"Enter Neighbor numbers:\"))"
      ],
      "metadata": {
        "colab": {
          "base_uri": "https://localhost:8080/"
        },
        "id": "z_QjL4xVylgH",
        "outputId": "e3c291c1-4360-4f42-d906-278526974c3e"
      },
      "execution_count": 92,
      "outputs": [
        {
          "name": "stdout",
          "output_type": "stream",
          "text": [
            "Enter Neighbor numbers:5\n"
          ]
        }
      ]
    },
    {
      "cell_type": "markdown",
      "source": [
        "## **`Reading the test file`**"
      ],
      "metadata": {
        "id": "q6z2ATvo-sRX"
      }
    },
    {
      "cell_type": "code",
      "source": [
        "test = pd.read_csv(\"/gdrive/MyDrive/Pattern_Recognition/KNN/test_knn.txt\")\n",
        "test.columns = columns[:2]\n",
        "test\n",
        "test[\"Y\"] = 0"
      ],
      "metadata": {
        "id": "tt2pKKUs0iIX"
      },
      "execution_count": 93,
      "outputs": []
    },
    {
      "cell_type": "code",
      "source": [
        "all = pd.concat([train, test])\n",
        "plot_data(all, \"All data points\", all_data = True)"
      ],
      "metadata": {
        "colab": {
          "base_uri": "https://localhost:8080/",
          "height": 621
        },
        "id": "hB3zWQxgVHSl",
        "outputId": "1535431e-fb88-4755-fd60-e4547e2f5665"
      },
      "execution_count": 94,
      "outputs": [
        {
          "output_type": "display_data",
          "data": {
            "text/plain": [
              "<Figure size 720x720 with 1 Axes>"
            ],
            "image/png": "[encoded data removed]"
          },
          "metadata": {
            "needs_background": "light"
          }
        }
      ]
    },
    {
      "cell_type": "markdown",
      "source": [
        "# **`Task - 2, 3`**"
      ],
      "metadata": {
        "id": "Tfa-iR35T5tW"
      }
    },
    {
      "cell_type": "markdown",
      "source": [
        "## **`Creating prediction.txt file`**"
      ],
      "metadata": {
        "id": "f6x1dgzA_tcu"
      }
    },
    {
      "cell_type": "code",
      "source": [
        "predictions = open(\"/gdrive/MyDrive/Pattern_Recognition/KNN/prediction.txt\", \"w+\")"
      ],
      "metadata": {
        "id": "dwYbVRMm_z2E"
      },
      "execution_count": 95,
      "outputs": []
    },
    {
      "cell_type": "markdown",
      "source": [
        "## **`K-Nearest Neighbors`**"
      ],
      "metadata": {
        "id": "jcptoFZL94cG"
      }
    },
    {
      "cell_type": "code",
      "source": [
        "def KNN(train, test, path):\n",
        "\n",
        "  for i in range(len(test)):\n",
        "\n",
        "    predictions = open(path, \"a+\")\n",
        "    \n",
        "    predictions.write(\"Test point:\"+str(test[\"X1\"].iloc[i])+\",\"+str(test[\"X2\"].iloc[i])+\"\\n\")\n",
        "\n",
        "    result = []\n",
        "    result.extend( (test[\"X1\"].iloc[i]-train[\"X1\"].iloc[j])**2+(test[\"X2\"].iloc[i]-train[\"X2\"].iloc[j])**2 for j in range(len(train)))\n",
        "    result = np.array(result)\n",
        "    result_index = np.argsort(result)\n",
        "    # print(f\"Distance: {result}\")\n",
        "    # print(f\"Index: {result_index}\"+\"\\n\")\n",
        "\n",
        "    Good = 0\n",
        "    Bad = 0\n",
        "\n",
        "    for k in range(neighbors):\n",
        "      predictions.write(\"Distance \"+str(k+1)+\":\"+str(result[result_index[k]])+\"    \"+\"Class:\"+str(train[\"Y\"].iloc[result_index[k]])+\"\\n\")\n",
        "      if train[\"Y\"].iloc[result_index[k]] == 1:\n",
        "        Good += 1\n",
        "      else:\n",
        "        Bad += 1\n",
        "    \n",
        "    if Good>Bad:\n",
        "      test[\"Y\"].iloc[i] = 1\n",
        "    else:\n",
        "      test[\"Y\"].iloc[i] = 2\n",
        "    \n",
        "    predictions.write(\"Predicted class: \"+str(test[\"Y\"].iloc[i])+\"\\n\\n\")\n",
        "\n",
        "    predictions.close()\n",
        "\n",
        "  return test"
      ],
      "metadata": {
        "id": "CBrcfccl0iL2"
      },
      "execution_count": 96,
      "outputs": []
    },
    {
      "cell_type": "code",
      "source": [
        "path = \"/gdrive/MyDrive/Pattern_Recognition/KNN/prediction.txt\"\n",
        "KNN(train, test, path)"
      ],
      "metadata": {
        "colab": {
          "base_uri": "https://localhost:8080/",
          "height": 300
        },
        "id": "Z5LjPxok9xHh",
        "outputId": "00992342-efc2-4d43-a000-7b1e95fdac23"
      },
      "execution_count": 97,
      "outputs": [
        {
          "output_type": "execute_result",
          "data": {
            "text/plain": [
              "   X1  X2  Y\n",
              "0   7   7  1\n",
              "1   4   3  2\n",
              "2   2   8  2\n",
              "3   3   5  2\n",
              "4   1   2  2\n",
              "5   4   8  1\n",
              "6   8   3  1\n",
              "7   8   4  1"
            ],
            "text/html": [
              "\n",
              "  <div id=\"df-29b752c7-b8cb-4e7f-a63a-e4d13624adaf\">\n",
              "    <div class=\"colab-df-container\">\n",
              "      <div>\n",
              "<style scoped>\n",
              "    .dataframe tbody tr th:only-of-type {\n",
              "        vertical-align: middle;\n",
              "    }\n",
              "\n",
              "    .dataframe tbody tr th {\n",
              "        vertical-align: top;\n",
              "    }\n",
              "\n",
              "    .dataframe thead th {\n",
              "        text-align: right;\n",
              "    }\n",
              "</style>\n",
              "<table border=\"1\" class=\"dataframe\">\n",
              "  <thead>\n",
              "    <tr style=\"text-align: right;\">\n",
              "      <th></th>\n",
              "      <th>X1</th>\n",
              "      <th>X2</th>\n",
              "      <th>Y</th>\n",
              "    </tr>\n",
              "  </thead>\n",
              "  <tbody>\n",
              "    <tr>\n",
              "      <th>0</th>\n",
              "      <td>7</td>\n",
              "      <td>7</td>\n",
              "      <td>1</td>\n",
              "    </tr>\n",
              "    <tr>\n",
              "      <th>1</th>\n",
              "      <td>4</td>\n",
              "      <td>3</td>\n",
              "      <td>2</td>\n",
              "    </tr>\n",
              "    <tr>\n",
              "      <th>2</th>\n",
              "      <td>2</td>\n",
              "      <td>8</td>\n",
              "      <td>2</td>\n",
              "    </tr>\n",
              "    <tr>\n",
              "      <th>3</th>\n",
              "      <td>3</td>\n",
              "      <td>5</td>\n",
              "      <td>2</td>\n",
              "    </tr>\n",
              "    <tr>\n",
              "      <th>4</th>\n",
              "      <td>1</td>\n",
              "      <td>2</td>\n",
              "      <td>2</td>\n",
              "    </tr>\n",
              "    <tr>\n",
              "      <th>5</th>\n",
              "      <td>4</td>\n",
              "      <td>8</td>\n",
              "      <td>1</td>\n",
              "    </tr>\n",
              "    <tr>\n",
              "      <th>6</th>\n",
              "      <td>8</td>\n",
              "      <td>3</td>\n",
              "      <td>1</td>\n",
              "    </tr>\n",
              "    <tr>\n",
              "      <th>7</th>\n",
              "      <td>8</td>\n",
              "      <td>4</td>\n",
              "      <td>1</td>\n",
              "    </tr>\n",
              "  </tbody>\n",
              "</table>\n",
              "</div>\n",
              "      <button class=\"colab-df-convert\" onclick=\"convertToInteractive('df-29b752c7-b8cb-4e7f-a63a-e4d13624adaf')\"\n",
              "              title=\"Convert this dataframe to an interactive table.\"\n",
              "              style=\"display:none;\">\n",
              "        \n",
              "  <svg xmlns=\"http://www.w3.org/2000/svg\" height=\"24px\"viewBox=\"0 0 24 24\"\n",
              "       width=\"24px\">\n",
              "    <path d=\"M0 0h24v24H0V0z\" fill=\"none\"/>\n",
              "    <path d=\"M18.56 5.44l.94 2.06.94-2.06 2.06-.94-2.06-.94-.94-2.06-.94 2.06-2.06.94zm-11 1L8.5 8.5l.94-2.06 2.06-.94-2.06-.94L8.5 2.5l-.94 2.06-2.06.94zm10 10l.94 2.06.94-2.06 2.06-.94-2.06-.94-.94-2.06-.94 2.06-2.06.94z\"/><path d=\"M17.41 7.96l-1.37-1.37c-.4-.4-.92-.59-1.43-.59-.52 0-1.04.2-1.43.59L10.3 9.45l-7.72 7.72c-.78.78-.78 2.05 0 2.83L4 21.41c.39.39.9.59 1.41.59.51 0 1.02-.2 1.41-.59l7.78-7.78 2.81-2.81c.8-.78.8-2.07 0-2.86zM5.41 20L4 18.59l7.72-7.72 1.47 1.35L5.41 20z\"/>\n",
              "  </svg>\n",
              "      </button>\n",
              "      \n",
              "  <style>\n",
              "    .colab-df-container {\n",
              "      display:flex;\n",
              "      flex-wrap:wrap;\n",
              "      gap: 12px;\n",
              "    }\n",
              "\n",
              "    .colab-df-convert {\n",
              "      background-color: #E8F0FE;\n",
              "      border: none;\n",
              "      border-radius: 50%;\n",
              "      cursor: pointer;\n",
              "      display: none;\n",
              "      fill: #1967D2;\n",
              "      height: 32px;\n",
              "      padding: 0 0 0 0;\n",
              "      width: 32px;\n",
              "    }\n",
              "\n",
              "    .colab-df-convert:hover {\n",
              "      background-color: #E2EBFA;\n",
              "      box-shadow: 0px 1px 2px rgba(60, 64, 67, 0.3), 0px 1px 3px 1px rgba(60, 64, 67, 0.15);\n",
              "      fill: #174EA6;\n",
              "    }\n",
              "\n",
              "    [theme=dark] .colab-df-convert {\n",
              "      background-color: #3B4455;\n",
              "      fill: #D2E3FC;\n",
              "    }\n",
              "\n",
              "    [theme=dark] .colab-df-convert:hover {\n",
              "      background-color: #434B5C;\n",
              "      box-shadow: 0px 1px 3px 1px rgba(0, 0, 0, 0.15);\n",
              "      filter: drop-shadow(0px 1px 2px rgba(0, 0, 0, 0.3));\n",
              "      fill: #FFFFFF;\n",
              "    }\n",
              "  </style>\n",
              "\n",
              "      <script>\n",
              "        const buttonEl =\n",
              "          document.querySelector('#df-29b752c7-b8cb-4e7f-a63a-e4d13624adaf button.colab-df-convert');\n",
              "        buttonEl.style.display =\n",
              "          google.colab.kernel.accessAllowed ? 'block' : 'none';\n",
              "\n",
              "        async function convertToInteractive(key) {\n",
              "          const element = document.querySelector('#df-29b752c7-b8cb-4e7f-a63a-e4d13624adaf');\n",
              "          const dataTable =\n",
              "            await google.colab.kernel.invokeFunction('convertToInteractive',\n",
              "                                                     [key], {});\n",
              "          if (!dataTable) return;\n",
              "\n",
              "          const docLinkHtml = 'Like what you see? Visit the ' +\n",
              "            '<a target=\"_blank\" href=https://colab.research.google.com/notebooks/data_table.ipynb>data table notebook</a>'\n",
              "            + ' to learn more about interactive tables.';\n",
              "          element.innerHTML = '';\n",
              "          dataTable['output_type'] = 'display_data';\n",
              "          await google.colab.output.renderOutput(dataTable, element);\n",
              "          const docLink = document.createElement('div');\n",
              "          docLink.innerHTML = docLinkHtml;\n",
              "          element.appendChild(docLink);\n",
              "        }\n",
              "      </script>\n",
              "    </div>\n",
              "  </div>\n",
              "  "
            ]
          },
          "metadata": {},
          "execution_count": 97
        }
      ]
    },
    {
      "cell_type": "code",
      "source": [
        "plot_data(test, \"test\")"
      ],
      "metadata": {
        "colab": {
          "base_uri": "https://localhost:8080/",
          "height": 621
        },
        "id": "OpkZk_mGUPxe",
        "outputId": "b1892258-8c51-41fa-fb5f-9453bc90e98c"
      },
      "execution_count": 98,
      "outputs": [
        {
          "output_type": "display_data",
          "data": {
            "text/plain": [
              "<Figure size 720x720 with 1 Axes>"
            ],
            "image/png": "[encoded data removed]"
          },
          "metadata": {
            "needs_background": "light"
          }
        }
      ]
    },
    {
      "cell_type": "code",
      "source": [
        "all_classified = pd.concat([train, test])\n",
        "plot_data(all_classified, \"all\")"
      ],
      "metadata": {
        "colab": {
          "base_uri": "https://localhost:8080/",
          "height": 621
        },
        "id": "eniA4Rw5WoEs",
        "outputId": "23e8cc99-4053-4d71-b276-9453f4809407"
      },
      "execution_count": 99,
      "outputs": [
        {
          "output_type": "display_data",
          "data": {
            "text/plain": [
              "<Figure size 720x720 with 1 Axes>"
            ],
            "image/png": "[encoded data removed]"
          },
          "metadata": {
            "needs_background": "light"
          }
        }
      ]
    },
    {
      "cell_type": "markdown",
      "source": [
        "# **`Task - 3`**"
      ],
      "metadata": {
        "id": "ldoYT1XnUDQO"
      }
    },
    {
      "cell_type": "markdown",
      "source": [
        "## **`Viewing the predicition.txt file`**"
      ],
      "metadata": {
        "id": "-m3igsV2Fp0b"
      }
    },
    {
      "cell_type": "code",
      "source": [
        "predictions = open(path, \"r\")\n",
        "with open(path) as predicitions:\n",
        "  [print(line) for line in predictions.readlines()]"
      ],
      "metadata": {
        "colab": {
          "base_uri": "https://localhost:8080/"
        },
        "id": "x6ljOMW20iT-",
        "outputId": "bbac021c-720b-411d-ff20-1879dc358d70"
      },
      "execution_count": 100,
      "outputs": [
        {
          "output_type": "stream",
          "name": "stdout",
          "text": [
            "Test point:7,7\n",
            "\n",
            "Distance 1:0    Class:1\n",
            "\n",
            "Distance 2:1    Class:1\n",
            "\n",
            "Distance 3:1    Class:1\n",
            "\n",
            "Distance 4:2    Class:1\n",
            "\n",
            "Distance 5:4    Class:1\n",
            "\n",
            "Predicted class: 1\n",
            "\n",
            "\n",
            "\n",
            "Test point:4,3\n",
            "\n",
            "Distance 1:0    Class:2\n",
            "\n",
            "Distance 2:1    Class:2\n",
            "\n",
            "Distance 3:1    Class:2\n",
            "\n",
            "Distance 4:2    Class:2\n",
            "\n",
            "Distance 5:2    Class:2\n",
            "\n",
            "Predicted class: 2\n",
            "\n",
            "\n",
            "\n",
            "Test point:2,8\n",
            "\n",
            "Distance 1:17    Class:1\n",
            "\n",
            "Distance 2:17    Class:2\n",
            "\n",
            "Distance 3:17    Class:2\n",
            "\n",
            "Distance 4:20    Class:1\n",
            "\n",
            "Distance 5:20    Class:2\n",
            "\n",
            "Predicted class: 2\n",
            "\n",
            "\n",
            "\n",
            "Test point:3,5\n",
            "\n",
            "Distance 1:1    Class:2\n",
            "\n",
            "Distance 2:2    Class:2\n",
            "\n",
            "Distance 3:4    Class:2\n",
            "\n",
            "Distance 4:5    Class:2\n",
            "\n",
            "Distance 5:5    Class:2\n",
            "\n",
            "Predicted class: 2\n",
            "\n",
            "\n",
            "\n",
            "Test point:1,2\n",
            "\n",
            "Distance 1:2    Class:2\n",
            "\n",
            "Distance 2:4    Class:2\n",
            "\n",
            "Distance 3:4    Class:2\n",
            "\n",
            "Distance 4:5    Class:2\n",
            "\n",
            "Distance 5:8    Class:2\n",
            "\n",
            "Predicted class: 2\n",
            "\n",
            "\n",
            "\n",
            "Test point:4,8\n",
            "\n",
            "Distance 1:5    Class:1\n",
            "\n",
            "Distance 2:8    Class:1\n",
            "\n",
            "Distance 3:10    Class:1\n",
            "\n",
            "Distance 4:13    Class:1\n",
            "\n",
            "Distance 5:16    Class:2\n",
            "\n",
            "Predicted class: 1\n",
            "\n",
            "\n",
            "\n",
            "Test point:8,3\n",
            "\n",
            "Distance 1:2    Class:1\n",
            "\n",
            "Distance 2:5    Class:1\n",
            "\n",
            "Distance 3:5    Class:1\n",
            "\n",
            "Distance 4:10    Class:1\n",
            "\n",
            "Distance 5:13    Class:1\n",
            "\n",
            "Predicted class: 1\n",
            "\n",
            "\n",
            "\n",
            "Test point:8,4\n",
            "\n",
            "Distance 1:1    Class:1\n",
            "\n",
            "Distance 2:2    Class:1\n",
            "\n",
            "Distance 3:4    Class:1\n",
            "\n",
            "Distance 4:5    Class:1\n",
            "\n",
            "Distance 5:8    Class:1\n",
            "\n",
            "Predicted class: 1\n",
            "\n",
            "\n",
            "\n"
          ]
        }
      ]
    }
  ]
}